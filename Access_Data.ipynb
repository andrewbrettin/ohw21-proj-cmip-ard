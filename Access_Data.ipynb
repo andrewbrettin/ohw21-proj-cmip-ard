{
 "cells": [
  {
   "cell_type": "code",
   "execution_count": 1,
   "id": "bc90270e-00a7-41a5-9790-b32a0dab5353",
   "metadata": {},
   "outputs": [],
   "source": [
    "import matplotlib.pyplot as plt\n",
    "import numpy as np\n",
    "import intake\n",
    "from dask.diagnostics import ProgressBar"
   ]
  },
  {
   "cell_type": "code",
   "execution_count": 2,
   "id": "6beede17-e4da-4cf6-bd2d-6062796e4af3",
   "metadata": {},
   "outputs": [],
   "source": [
    "from cmip6_preprocessing.utils import google_cmip_col\n",
    "\n",
    "# Initialize the Pangeo CMIP6 cloud collection\n",
    "col = google_cmip_col() \n"
   ]
  },
  {
   "cell_type": "markdown",
   "id": "28e0026c-5ce1-42bf-a62c-e3a752a0c61a",
   "metadata": {},
   "source": [
    "## Filtering the data using specifications "
   ]
  },
  {
   "cell_type": "code",
   "execution_count": 3,
   "id": "7da5a492-1fc4-4181-8e03-03c37261a19e",
   "metadata": {},
   "outputs": [],
   "source": [
    "# function which shows us what different models we have which has specific experiment_id and variable_id\n",
    "def model_list(experiment_id1,experiment_id2,variable_id1,variable_id2):\n",
    "    list1 = col.df[col.df.experiment_id == experiment_id1].source_id.unique()\n",
    "    list2 = col.df[col.df.experiment_id == experiment_id2].source_id.unique()\n",
    "\n",
    "    elist = np.intersect1d(list1,list2)\n",
    "\n",
    "    # all source_id with variable_id == 'no3os' or 'tos'\n",
    "    vlist1 = col.df[col.df.variable_id == variable_id1].source_id.unique()\n",
    "    vlist2 = col.df[col.df.variable_id == variable_id2].source_id.unique()\n",
    "\n",
    "    vlist = np.intersect1d(vlist1,vlist2)\n",
    "\n",
    "    model = np.intersect1d(vlist,elist)\n",
    "    return model"
   ]
  },
  {
   "cell_type": "code",
   "execution_count": 4,
   "id": "221b4636-1876-4f4b-8e27-47a84041ba7e",
   "metadata": {},
   "outputs": [
    {
     "data": {
      "text/plain": [
       "array(['ACCESS-ESM1-5', 'CESM2', 'CESM2-WACCM', 'CNRM-ESM2-1', 'CanESM5',\n",
       "       'CanESM5-CanOE', 'GFDL-ESM4', 'GISS-E2-1-G', 'IPSL-CM6A-LR',\n",
       "       'MIROC-ES2L', 'MPI-ESM1-2-HR', 'MPI-ESM1-2-LR', 'NorESM2-LM',\n",
       "       'NorESM2-MM', 'UKESM1-0-LL'], dtype=object)"
      ]
     },
     "execution_count": 4,
     "metadata": {},
     "output_type": "execute_result"
    }
   ],
   "source": [
    "model_list('historical','ssp585','tos','no3os') "
   ]
  },
  {
   "cell_type": "markdown",
   "id": "0ef18429-2943-4681-8858-5253a024aa45",
   "metadata": {},
   "source": [
    "***So these many models have `experiment_id` as `historical` and `ssp585` and `variable-id` as `tos` and `no3os`***"
   ]
  },
  {
   "cell_type": "code",
   "execution_count": 5,
   "id": "8f7251f4-0112-4ae2-8cd1-8d9f26670459",
   "metadata": {},
   "outputs": [],
   "source": [
    "# Now I am creating a subset where I am forcing the search method to follow all these querry \n",
    "\n",
    "models = ['ACCESS-ESM1-5', 'CESM2', 'CESM2-WACCM', 'CanESM5.gn.Omon']\n",
    "\n",
    "query = dict(\n",
    "    \n",
    "    variable_id=[\"tos\", \"no3os\"],\n",
    "    experiment_id=[\"historical\", \"ssp585\"],\n",
    "    table_id=[\"Omon\"],\n",
    "    source_id=models,\n",
    "#     member_id = ['r2i1p1f1', 'r3i1p1f1', 'r2i1p2f1', 'r3i1p2f1'], # adding member_id inside search would would restrict further but we don't want that\n",
    "    grid_label='gn'\n",
    ")"
   ]
  },
  {
   "cell_type": "code",
   "execution_count": 19,
   "id": "ba068157-f7bb-4389-a36d-819082ea40af",
   "metadata": {},
   "outputs": [],
   "source": [
    "col_subset = col.search(require_all_on=[\"source_id\"], **query)"
   ]
  },
  {
   "cell_type": "code",
   "execution_count": 20,
   "id": "4e11cb9a-31a8-4a74-856d-70d2351a128a",
   "metadata": {},
   "outputs": [
    {
     "data": {
      "text/html": [
       "<div>\n",
       "<style scoped>\n",
       "    .dataframe tbody tr th:only-of-type {\n",
       "        vertical-align: middle;\n",
       "    }\n",
       "\n",
       "    .dataframe tbody tr th {\n",
       "        vertical-align: top;\n",
       "    }\n",
       "\n",
       "    .dataframe thead th {\n",
       "        text-align: right;\n",
       "    }\n",
       "</style>\n",
       "<table border=\"1\" class=\"dataframe\">\n",
       "  <thead>\n",
       "    <tr style=\"text-align: right;\">\n",
       "      <th></th>\n",
       "      <th>experiment_id</th>\n",
       "      <th>variable_id</th>\n",
       "      <th>table_id</th>\n",
       "      <th>member_id</th>\n",
       "    </tr>\n",
       "    <tr>\n",
       "      <th>source_id</th>\n",
       "      <th></th>\n",
       "      <th></th>\n",
       "      <th></th>\n",
       "      <th></th>\n",
       "    </tr>\n",
       "  </thead>\n",
       "  <tbody>\n",
       "    <tr>\n",
       "      <th>ACCESS-ESM1-5</th>\n",
       "      <td>2</td>\n",
       "      <td>2</td>\n",
       "      <td>1</td>\n",
       "      <td>30</td>\n",
       "    </tr>\n",
       "    <tr>\n",
       "      <th>CESM2</th>\n",
       "      <td>2</td>\n",
       "      <td>2</td>\n",
       "      <td>1</td>\n",
       "      <td>11</td>\n",
       "    </tr>\n",
       "    <tr>\n",
       "      <th>CESM2-WACCM</th>\n",
       "      <td>2</td>\n",
       "      <td>2</td>\n",
       "      <td>1</td>\n",
       "      <td>5</td>\n",
       "    </tr>\n",
       "  </tbody>\n",
       "</table>\n",
       "</div>"
      ],
      "text/plain": [
       "               experiment_id  variable_id  table_id  member_id\n",
       "source_id                                                     \n",
       "ACCESS-ESM1-5              2            2         1         30\n",
       "CESM2                      2            2         1         11\n",
       "CESM2-WACCM                2            2         1          5"
      ]
     },
     "execution_count": 20,
     "metadata": {},
     "output_type": "execute_result"
    }
   ],
   "source": [
    "col_subset.df.groupby(\"source_id\")[[\"experiment_id\", \"variable_id\", \"table_id\", \"member_id\"]].nunique()"
   ]
  },
  {
   "cell_type": "markdown",
   "id": "788720dc-2e26-41ba-9180-35a45f844580",
   "metadata": {},
   "source": [
    "## Now we can pick any models out of this table keeping in mind that we have restriction on computational resource "
   ]
  },
  {
   "cell_type": "code",
   "execution_count": 22,
   "id": "910e527b-d20d-4010-b1d1-ab51af5d108b",
   "metadata": {},
   "outputs": [
    {
     "data": {
      "text/html": [
       "<div>\n",
       "<style scoped>\n",
       "    .dataframe tbody tr th:only-of-type {\n",
       "        vertical-align: middle;\n",
       "    }\n",
       "\n",
       "    .dataframe tbody tr th {\n",
       "        vertical-align: top;\n",
       "    }\n",
       "\n",
       "    .dataframe thead th {\n",
       "        text-align: right;\n",
       "    }\n",
       "</style>\n",
       "<table border=\"1\" class=\"dataframe\">\n",
       "  <thead>\n",
       "    <tr style=\"text-align: right;\">\n",
       "      <th></th>\n",
       "      <th>experiment_id</th>\n",
       "      <th>variable_id</th>\n",
       "      <th>table_id</th>\n",
       "      <th>member_id</th>\n",
       "    </tr>\n",
       "    <tr>\n",
       "      <th>source_id</th>\n",
       "      <th></th>\n",
       "      <th></th>\n",
       "      <th></th>\n",
       "      <th></th>\n",
       "    </tr>\n",
       "  </thead>\n",
       "  <tbody>\n",
       "    <tr>\n",
       "      <th>ACCESS-ESM1-5</th>\n",
       "      <td>2</td>\n",
       "      <td>2</td>\n",
       "      <td>1</td>\n",
       "      <td>2</td>\n",
       "    </tr>\n",
       "    <tr>\n",
       "      <th>CESM2</th>\n",
       "      <td>1</td>\n",
       "      <td>2</td>\n",
       "      <td>1</td>\n",
       "      <td>2</td>\n",
       "    </tr>\n",
       "    <tr>\n",
       "      <th>CESM2-WACCM</th>\n",
       "      <td>2</td>\n",
       "      <td>2</td>\n",
       "      <td>1</td>\n",
       "      <td>2</td>\n",
       "    </tr>\n",
       "  </tbody>\n",
       "</table>\n",
       "</div>"
      ],
      "text/plain": [
       "               experiment_id  variable_id  table_id  member_id\n",
       "source_id                                                     \n",
       "ACCESS-ESM1-5              2            2         1          2\n",
       "CESM2                      1            2         1          2\n",
       "CESM2-WACCM                2            2         1          2"
      ]
     },
     "execution_count": 22,
     "metadata": {},
     "output_type": "execute_result"
    }
   ],
   "source": [
    "# Now I am passing search on col_subset to further filter for required member_id\n",
    "\n",
    "cat = col_subset.search(\n",
    "    member_id = ['r2i1p1f1', 'r3i1p1f1', 'r2i1p2f1', 'r3i1p2f1']\n",
    ")\n",
    "\n",
    "cat.df.groupby(\"source_id\")[\n",
    "    [\"experiment_id\", \"variable_id\", \"table_id\", \"member_id\"]\n",
    "].nunique()"
   ]
  },
  {
   "cell_type": "code",
   "execution_count": 17,
   "id": "c08a16f0-36af-4d8f-b7ba-5f3d9654131f",
   "metadata": {},
   "outputs": [
    {
     "name": "stderr",
     "output_type": "stream",
     "text": [
      "/srv/conda/lib/python3.9/site-packages/cmip6_preprocessing/postprocessing.py:113: UserWarning: Match attributes ['experiment_id', 'variable_id'] not found in any of the datasets.         This can happen when several combination functions are used.\n",
      "  warnings.warn(\n",
      "/srv/conda/lib/python3.9/site-packages/cmip6_preprocessing/postprocessing.py:138: UserWarning: none.NCAR.CESM2-WACCM.none.r2i1p1f1.Omon.gn.none.none failed to combine with :'no3os' is not present in all datasets.\n",
      "  warnings.warn(f\"{cmip6_dataset_id(ds)} failed to combine with :{e}\")\n"
     ]
    },
    {
     "data": {
      "text/plain": [
       "dict_keys(['ACCESS-ESM1-5.gn.Omon'])"
      ]
     },
     "execution_count": 17,
     "metadata": {},
     "output_type": "execute_result"
    }
   ],
   "source": [
    "# # same thing for experiment_id\n",
    "ddict_combined_bb = {k:maybe_remove_attrs(ds, 'experiment_id') for k,ds in ddict_combined_b.items()}\n",
    "ddict_combined = concat_members(ddict_combined_bb)\n",
    "ddict_combined.keys()"
   ]
  }
 ],
 "metadata": {
  "kernelspec": {
   "display_name": "Python 3 (ipykernel)",
   "language": "python",
   "name": "python3"
  },
  "language_info": {
   "codemirror_mode": {
    "name": "ipython",
    "version": 3
   },
   "file_extension": ".py",
   "mimetype": "text/x-python",
   "name": "python",
   "nbconvert_exporter": "python",
   "pygments_lexer": "ipython3",
   "version": "3.9.6"
  }
 },
 "nbformat": 4,
 "nbformat_minor": 5
}
